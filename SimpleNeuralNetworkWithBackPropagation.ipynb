{
 "cells": [
  {
   "cell_type": "code",
   "execution_count": 1,
   "metadata": {
    "collapsed": true
   },
   "outputs": [],
   "source": [
    "import numpy as np"
   ]
  },
  {
   "cell_type": "code",
   "execution_count": 4,
   "metadata": {},
   "outputs": [
    {
     "data": {
      "text/plain": [
       "((4, 2), (4, 1))"
      ]
     },
     "execution_count": 4,
     "metadata": {},
     "output_type": "execute_result"
    }
   ],
   "source": [
    "x = np.array([[0,0],[0,1],[1,0],[1,1]])\n",
    "y = np.array([[0,1,1,0]]).T\n",
    "\n",
    "x.shape,y.shape"
   ]
  },
  {
   "cell_type": "code",
   "execution_count": 5,
   "metadata": {
    "collapsed": true
   },
   "outputs": [],
   "source": [
    "def sig(z):\n",
    "    return 1/ (1+np.exp(-z))"
   ]
  },
  {
   "cell_type": "code",
   "execution_count": 6,
   "metadata": {
    "collapsed": true
   },
   "outputs": [],
   "source": [
    "def derivativeSig(z):\n",
    "    return sig(z) * (1-sig(z))"
   ]
  },
  {
   "cell_type": "code",
   "execution_count": 18,
   "metadata": {},
   "outputs": [
    {
     "data": {
      "text/plain": [
       "(array([[-0.25022245,  0.42577003],\n",
       "        [ 0.42884275, -0.88926434]]),\n",
       " array([[-0.2927278 ,  0.90218381]]),\n",
       " array([[ 0.90485214],\n",
       "        [ 0.57790696]]),\n",
       " array([ 0.86005362]))"
      ]
     },
     "execution_count": 18,
     "metadata": {},
     "output_type": "execute_result"
    }
   ],
   "source": [
    "wh = 2*np.random.random((2,2)) - 1\n",
    "bh = 2*np.random.random((1,2)) - 1\n",
    "lr = 0.1\n",
    "wo = 2*np.random.random((2,1)) - 1\n",
    "bo = 2*np.random.random((1)) - 1\n",
    "\n",
    "wh,bh, wo, bo"
   ]
  },
  {
   "cell_type": "code",
   "execution_count": 19,
   "metadata": {},
   "outputs": [
    {
     "data": {
      "text/plain": [
       "array([[ 0.83994939],\n",
       "       [ 0.83672277],\n",
       "       [ 0.83881329],\n",
       "       [ 0.83726693]])"
      ]
     },
     "execution_count": 19,
     "metadata": {},
     "output_type": "execute_result"
    }
   ],
   "source": [
    "# Forward propagation\n",
    "output0 = x\n",
    "\n",
    "input_hidden = np.dot(output0,wh) + bh\n",
    "output_hidden = sig(input_hidden)\n",
    "\n",
    "input_final = np.dot(output_hidden,wo) + bo\n",
    "output = sig(input_final)\n",
    "\n",
    "output"
   ]
  },
  {
   "cell_type": "code",
   "execution_count": 20,
   "metadata": {},
   "outputs": [
    {
     "data": {
      "text/plain": [
       "(array([[ 0.0182782 ],\n",
       "        [ 0.97934042],\n",
       "        [ 0.97870526],\n",
       "        [ 0.01719464]]), array([[-6.26618672,  8.72777202],\n",
       "        [ 6.6159473 , -9.30741089]]), array([[ 3.11047788,  5.02134073]]), array([[-8.58335333],\n",
       "        [-8.37669413]]), array([[ 12.55523935]]))"
      ]
     },
     "execution_count": 20,
     "metadata": {},
     "output_type": "execute_result"
    }
   ],
   "source": [
    "# Code for backward propagation\n",
    "for itr in range(99999):\n",
    "        output0 = x\n",
    "\n",
    "        input_hidden = np.dot(output0,wh) + bh\n",
    "        output_hidden = sig(input_hidden)\n",
    "\n",
    "        input_final = np.dot(output_hidden,wo) + bo\n",
    "        output = sig(input_final)\n",
    "\n",
    "        # there are three terms to be calculated to finally calculate dE/dwij\n",
    "        first_term_output_layer = output - y # dE/dOj\n",
    "        second_term_output_layer = derivativeSig(input_final) # dOj/d_input_j\n",
    "        first_second_output_layer = first_term_output_layer * second_term_output_layer\n",
    "\n",
    "        # first term of hidden layer depends on the first_second_output_layer * wij\n",
    "        # thats how back propagation is done.\n",
    "        # math used : total derivative\n",
    "        # because dE/dOj depends on inp1 , .. inpk of next layer(in this case output layer)\n",
    "        first_term_hidden_layer = np.dot(first_second_output_layer,wo.T)\n",
    "        second_term_hidden_layer = derivativeSig(input_hidden) # dOj/d_input_j\n",
    "        first_second_hidden_layer = first_term_hidden_layer * second_term_hidden_layer\n",
    "\n",
    "        # calculating slopes for wo and bo\n",
    "        changes_output = np.dot(output_hidden.T,first_second_output_layer)\n",
    "        changes_output_bias = np.sum(first_second_output_layer,axis = 0, keepdims = True)\n",
    "\n",
    "        # calculating slopes for wh and bh \n",
    "        changes_hidden = np.dot(output0.T,first_second_hidden_layer)\n",
    "        changes_hidden_bias = np.sum(first_second_hidden_layer,axis = 0, keepdims = True)\n",
    "\n",
    "        # update weights and biases\n",
    "        wo = wo - lr * changes_output\n",
    "        bo = bo - lr * changes_output_bias\n",
    "        wh = wh - lr * changes_hidden\n",
    "        bh = bh - lr * changes_hidden_bias\n",
    "\n",
    "output, wh,bh, wo, bo"
   ]
  }
 ],
 "metadata": {
  "kernelspec": {
   "display_name": "Python 3",
   "language": "python",
   "name": "python3"
  },
  "language_info": {
   "codemirror_mode": {
    "name": "ipython",
    "version": 3
   },
   "file_extension": ".py",
   "mimetype": "text/x-python",
   "name": "python",
   "nbconvert_exporter": "python",
   "pygments_lexer": "ipython3",
   "version": "3.6.3"
  }
 },
 "nbformat": 4,
 "nbformat_minor": 2
}
