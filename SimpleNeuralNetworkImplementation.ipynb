{
 "cells": [
  {
   "cell_type": "markdown",
   "metadata": {},
   "source": [
    "# Covers Forward Propagation + (backward propagation for neural network with no hidden layers )"
   ]
  },
  {
   "cell_type": "code",
   "execution_count": 57,
   "metadata": {
    "collapsed": true
   },
   "outputs": [],
   "source": [
    "import numpy as np"
   ]
  },
  {
   "cell_type": "code",
   "execution_count": 58,
   "metadata": {},
   "outputs": [
    {
     "data": {
      "text/plain": [
       "((4, 2), (4, 1))"
      ]
     },
     "execution_count": 58,
     "metadata": {},
     "output_type": "execute_result"
    }
   ],
   "source": [
    "x = np.array([[0,0],[0,1],[1,0],[1,1]])\n",
    "y = np.array([[0,0,0,1]]).T\n",
    "\n",
    "x.shape,y.shape"
   ]
  },
  {
   "cell_type": "code",
   "execution_count": 59,
   "metadata": {
    "collapsed": true
   },
   "outputs": [],
   "source": [
    "def sig(z):\n",
    "    return 1/(1+np.exp(-z))"
   ]
  },
  {
   "cell_type": "code",
   "execution_count": 60,
   "metadata": {
    "collapsed": true
   },
   "outputs": [],
   "source": [
    "def derivativeSig(z):\n",
    "    return sig(z) * (1-sig(z))"
   ]
  },
  {
   "cell_type": "code",
   "execution_count": 71,
   "metadata": {},
   "outputs": [
    {
     "data": {
      "text/plain": [
       "(array([[ 0.46848316],\n",
       "        [-0.73636653]]), array([-0.98717058]))"
      ]
     },
     "execution_count": 71,
     "metadata": {},
     "output_type": "execute_result"
    }
   ],
   "source": [
    "weights = 2 * np.random.random((2,1)) - 1\n",
    "base = 2 * np.random.random((1)) - 1\n",
    "lr = 0.01\n",
    "weights,base"
   ]
  },
  {
   "cell_type": "code",
   "execution_count": 62,
   "metadata": {},
   "outputs": [
    {
     "data": {
      "text/plain": [
       "array([[ 0.71108068],\n",
       "       [ 0.61686196],\n",
       "       [ 0.51981809],\n",
       "       [ 0.41457733]])"
      ]
     },
     "execution_count": 62,
     "metadata": {},
     "output_type": "execute_result"
    }
   ],
   "source": [
    "# With no hidden layer\n",
    "# Propagating forward\n",
    "output0 = x\n",
    "output = sig(np.dot(output0,weights) + base)\n",
    "output"
   ]
  },
  {
   "cell_type": "code",
   "execution_count": 73,
   "metadata": {},
   "outputs": [
    {
     "data": {
      "text/plain": [
       "(array([[ 3.50355885],\n",
       "        [ 3.50341934]]), array([-5.36399231]), array([[ 0.00466036],\n",
       "        [ 0.13463628],\n",
       "        [ 0.13465254],\n",
       "        [ 0.83794082]]))"
      ]
     },
     "execution_count": 73,
     "metadata": {},
     "output_type": "execute_result"
    }
   ],
   "source": [
    "# Propagating backward\n",
    "# dE/dWij has three terms to be multiplied\n",
    "\n",
    "# dE/dOj\n",
    "for itr in range(10000):\n",
    "        output = sig(np.dot(x,weights) + base)\n",
    "        \n",
    "        first_term = output - y # shape 4,1\n",
    "\n",
    "        # for dOj/d_input_j\n",
    "        input_j = np.dot(output0,weights) + base\n",
    "        second_term = derivativeSig(input_j) # shape 4,1\n",
    "\n",
    "        # multiply first and second\n",
    "        result1 = first_term * second_term\n",
    "\n",
    "        # for d_input_j/dWij = Oi, Oi for each weight should be calculated separately\n",
    "        changes = np.zeros((2,1))\n",
    "        # print changes for clarity\n",
    "\n",
    "        for i in range (2):\n",
    "            for j in range (4):\n",
    "                changes [i][0] += result1[j][0] * output0[j][i]\n",
    "\n",
    "        # changes represent slope for weights\n",
    "        weights = weights - lr * changes\n",
    "        changes = 0.0\n",
    "        # for base, only one base therefore, no need of i loop\n",
    "        for j in range (4):\n",
    "                changes += result1[j][0] * 1\n",
    "\n",
    "        base = base - lr * changes\n",
    "        \n",
    "output = sig(np.dot(x,weights) + base)\n",
    "weights, base, output"
   ]
  },
  {
   "cell_type": "code",
   "execution_count": 74,
   "metadata": {},
   "outputs": [
    {
     "data": {
      "text/plain": [
       "(array([[ 4.01521403],\n",
       "        [ 4.01519665]]), array([-6.1255105]), array([[ 0.0021816 ],\n",
       "        [ 0.1080984 ],\n",
       "        [ 0.10810008],\n",
       "        [ 0.87044513]]))"
      ]
     },
     "execution_count": 74,
     "metadata": {},
     "output_type": "execute_result"
    }
   ],
   "source": [
    "# Propagating backward\n",
    "# dE/dWij has three terms to be multiplied\n",
    "\n",
    "# dE/dOj\n",
    "for itr in range(10000):\n",
    "        output = sig(np.dot(x,weights) + base)\n",
    "        \n",
    "        first_term = output - y # shape 4,1\n",
    "\n",
    "        # for dOj/d_input_j\n",
    "        input_j = np.dot(output0,weights) + base\n",
    "        second_term = derivativeSig(input_j) # shape 4,1\n",
    "\n",
    "        # multiply first and second\n",
    "        result1 = first_term * second_term\n",
    "\n",
    "        # for d_input_j/dWij = Oi, Oi for each weight should be calculated separately\n",
    "        changes = np.zeros((2,1))\n",
    "        # print changes for clarity\n",
    "\n",
    "        changes = np.dot(output0.T,result1)\n",
    "\n",
    "        # changes represent slope for weights\n",
    "        weights = weights - lr * changes\n",
    "        changes = 0.0\n",
    "        # for base, only one base therefore, no need of i loop\n",
    "        changes = np.sum(result1)\n",
    "\n",
    "        base = base - lr * changes\n",
    "        \n",
    "output = sig(np.dot(x,weights) + base)\n",
    "weights, base, output"
   ]
  }
 ],
 "metadata": {
  "kernelspec": {
   "display_name": "Python 3",
   "language": "python",
   "name": "python3"
  },
  "language_info": {
   "codemirror_mode": {
    "name": "ipython",
    "version": 3
   },
   "file_extension": ".py",
   "mimetype": "text/x-python",
   "name": "python",
   "nbconvert_exporter": "python",
   "pygments_lexer": "ipython3",
   "version": "3.6.3"
  }
 },
 "nbformat": 4,
 "nbformat_minor": 2
}
